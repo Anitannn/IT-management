{
 "cells": [
  {
   "cell_type": "code",
   "execution_count": null,
   "metadata": {},
   "outputs": [],
   "source": [
    "#Idee: Jeder Lebenslauf erhält ein paar Skills und Berufserfahrungen. \n",
    "# Jeder Lebenslauf hat eine eindeutige ID. \n",
    "# Jede ID wird gruppiert und bekommt ein Label zb 0 gut 1 schlecht\n",
    "#damit trainieren und später testen\n",
    "\n",
    "#machen das für eine Stelle zb Programmierer oder so"
   ]
  },
  {
   "cell_type": "code",
   "execution_count": 3,
   "metadata": {},
   "outputs": [],
   "source": [
    "import pandas as pd"
   ]
  },
  {
   "cell_type": "markdown",
   "metadata": {},
   "source": [
    "CV mit Labels 0 geeignet"
   ]
  },
  {
   "cell_type": "code",
   "execution_count": 16,
   "metadata": {},
   "outputs": [
    {
     "name": "stderr",
     "output_type": "stream",
     "text": [
      "C:\\Users\\anigu\\AppData\\Local\\Temp\\ipykernel_37400\\2989992387.py:9: FutureWarning: The frame.append method is deprecated and will be removed from pandas in a future version. Use pandas.concat instead.\n",
      "  df = df.append({'CV': content, 'Label': 0}, ignore_index=True)\n",
      "C:\\Users\\anigu\\AppData\\Local\\Temp\\ipykernel_37400\\2989992387.py:13: FutureWarning: The frame.append method is deprecated and will be removed from pandas in a future version. Use pandas.concat instead.\n",
      "  df = df.append({'CV': content, 'Label': 0}, ignore_index=True)\n"
     ]
    },
    {
     "data": {
      "text/html": [
       "<div>\n",
       "<style scoped>\n",
       "    .dataframe tbody tr th:only-of-type {\n",
       "        vertical-align: middle;\n",
       "    }\n",
       "\n",
       "    .dataframe tbody tr th {\n",
       "        vertical-align: top;\n",
       "    }\n",
       "\n",
       "    .dataframe thead th {\n",
       "        text-align: right;\n",
       "    }\n",
       "</style>\n",
       "<table border=\"1\" class=\"dataframe\">\n",
       "  <thead>\n",
       "    <tr style=\"text-align: right;\">\n",
       "      <th></th>\n",
       "      <th>CV</th>\n",
       "      <th>Label</th>\n",
       "    </tr>\n",
       "  </thead>\n",
       "  <tbody>\n",
       "    <tr>\n",
       "      <th>0</th>\n",
       "      <td>Profil:\\n•\\tGesamt: 10+ Jahre Berufserfahrung ...</td>\n",
       "      <td>0</td>\n",
       "    </tr>\n",
       "    <tr>\n",
       "      <th>1</th>\n",
       "      <td>•\\tGesamt: 8+ Jahre Berufserfahrung in der Sof...</td>\n",
       "      <td>0</td>\n",
       "    </tr>\n",
       "    <tr>\n",
       "      <th>2</th>\n",
       "      <td>Berufliches Profil:\\n•\\tBerufsziel: Softwareen...</td>\n",
       "      <td>0</td>\n",
       "    </tr>\n",
       "  </tbody>\n",
       "</table>\n",
       "</div>"
      ],
      "text/plain": [
       "                                                  CV  Label\n",
       "0  Profil:\\n•\\tGesamt: 10+ Jahre Berufserfahrung ...      0\n",
       "1  •\\tGesamt: 8+ Jahre Berufserfahrung in der Sof...      0\n",
       "2  Berufliches Profil:\\n•\\tBerufsziel: Softwareen...      0"
      ]
     },
     "execution_count": 16,
     "metadata": {},
     "output_type": "execute_result"
    }
   ],
   "source": [
    "\n",
    "df=pd.DataFrame(columns=[ 'CV', 'Label'])\n",
    "with open(\"data/Lebenslauf1.txt\", 'r') as file:\n",
    "    content = file.read()\n",
    "    df['CV'] = [content]\n",
    "    df['Label'] = [0]\n",
    "\n",
    "with open(\"data/Lebenslauf2.txt\", 'r') as file: \n",
    "    content = file.read()\n",
    "    df = df.append({'CV': content, 'Label': 0}, ignore_index=True)     \n",
    "    \n",
    "with open(\"data/Lebenslauf3.txt\", 'r') as file:     \n",
    "    content = file.read()\n",
    "    df = df.append({'CV': content, 'Label': 0}, ignore_index=True)\n",
    "df         \n"
   ]
  },
  {
   "cell_type": "code",
   "execution_count": 17,
   "metadata": {},
   "outputs": [
    {
     "ename": "NameError",
     "evalue": "name 'skills' is not defined",
     "output_type": "error",
     "traceback": [
      "\u001b[1;31m---------------------------------------------------------------------------\u001b[0m",
      "\u001b[1;31mNameError\u001b[0m                                 Traceback (most recent call last)",
      "Cell \u001b[1;32mIn[17], line 1\u001b[0m\n\u001b[1;32m----> 1\u001b[0m lebenslaufe \u001b[38;5;241m=\u001b[39m pd\u001b[38;5;241m.\u001b[39mDataFrame({\u001b[38;5;124m'\u001b[39m\u001b[38;5;124mSkills\u001b[39m\u001b[38;5;124m'\u001b[39m: \u001b[43mskills\u001b[49m[:\u001b[38;5;241m5\u001b[39m], \u001b[38;5;124m'\u001b[39m\u001b[38;5;124mBerufserfahrung\u001b[39m\u001b[38;5;124m'\u001b[39m: berufserfahrung})\n",
      "\u001b[1;31mNameError\u001b[0m: name 'skills' is not defined"
     ]
    }
   ],
   "source": [
    "lebenslaufe = pd.DataFrame({'Skills': skills[:5], 'Berufserfahrung': berufserfahrung})"
   ]
  }
 ],
 "metadata": {
  "kernelspec": {
   "display_name": "base",
   "language": "python",
   "name": "python3"
  },
  "language_info": {
   "codemirror_mode": {
    "name": "ipython",
    "version": 3
   },
   "file_extension": ".py",
   "mimetype": "text/x-python",
   "name": "python",
   "nbconvert_exporter": "python",
   "pygments_lexer": "ipython3",
   "version": "3.10.9"
  }
 },
 "nbformat": 4,
 "nbformat_minor": 2
}
