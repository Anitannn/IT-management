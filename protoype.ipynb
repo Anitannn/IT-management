{
 "cells": [
  {
   "cell_type": "code",
   "execution_count": 1,
   "metadata": {},
   "outputs": [
    {
     "name": "stdout",
     "output_type": "stream",
     "text": [
      "Collecting spacy_transformers\n",
      "  Downloading spacy_transformers-1.3.4-cp310-cp310-win_amd64.whl (343 kB)\n",
      "     -------------------------------------- 343.3/343.3 kB 3.5 MB/s eta 0:00:00\n",
      "Requirement already satisfied: torch>=1.8.0 in c:\\users\\anigu\\anaconda3\\lib\\site-packages (from spacy_transformers) (1.12.1)\n",
      "Requirement already satisfied: srsly<3.0.0,>=2.4.0 in c:\\users\\anigu\\anaconda3\\lib\\site-packages (from spacy_transformers) (2.4.8)\n",
      "Requirement already satisfied: transformers<4.37.0,>=3.4.0 in c:\\users\\anigu\\anaconda3\\lib\\site-packages (from spacy_transformers) (4.24.0)\n",
      "Collecting spacy-alignments<1.0.0,>=0.7.2\n",
      "  Downloading spacy_alignments-0.9.1-cp310-cp310-win_amd64.whl (187 kB)\n",
      "     -------------------------------------- 187.7/187.7 kB 5.7 MB/s eta 0:00:00\n",
      "Requirement already satisfied: numpy>=1.19.0 in c:\\users\\anigu\\anaconda3\\lib\\site-packages (from spacy_transformers) (1.23.5)\n",
      "Requirement already satisfied: spacy<4.0.0,>=3.5.0 in c:\\users\\anigu\\anaconda3\\lib\\site-packages (from spacy_transformers) (3.5.3)\n",
      "Requirement already satisfied: pathy>=0.10.0 in c:\\users\\anigu\\anaconda3\\lib\\site-packages (from spacy<4.0.0,>=3.5.0->spacy_transformers) (0.10.3)\n",
      "Requirement already satisfied: setuptools in c:\\users\\anigu\\anaconda3\\lib\\site-packages (from spacy<4.0.0,>=3.5.0->spacy_transformers) (65.6.3)\n",
      "Requirement already satisfied: thinc<8.2.0,>=8.1.8 in c:\\users\\anigu\\anaconda3\\lib\\site-packages (from spacy<4.0.0,>=3.5.0->spacy_transformers) (8.1.10)\n",
      "Requirement already satisfied: langcodes<4.0.0,>=3.2.0 in c:\\users\\anigu\\anaconda3\\lib\\site-packages (from spacy<4.0.0,>=3.5.0->spacy_transformers) (3.3.0)\n",
      "Requirement already satisfied: catalogue<2.1.0,>=2.0.6 in c:\\users\\anigu\\anaconda3\\lib\\site-packages (from spacy<4.0.0,>=3.5.0->spacy_transformers) (2.0.10)\n",
      "Requirement already satisfied: spacy-loggers<2.0.0,>=1.0.0 in c:\\users\\anigu\\anaconda3\\lib\\site-packages (from spacy<4.0.0,>=3.5.0->spacy_transformers) (1.0.4)\n",
      "Requirement already satisfied: requests<3.0.0,>=2.13.0 in c:\\users\\anigu\\anaconda3\\lib\\site-packages (from spacy<4.0.0,>=3.5.0->spacy_transformers) (2.28.1)\n",
      "Requirement already satisfied: wasabi<1.2.0,>=0.9.1 in c:\\users\\anigu\\anaconda3\\lib\\site-packages (from spacy<4.0.0,>=3.5.0->spacy_transformers) (0.9.1)\n",
      "Requirement already satisfied: smart-open<7.0.0,>=5.2.1 in c:\\users\\anigu\\anaconda3\\lib\\site-packages (from spacy<4.0.0,>=3.5.0->spacy_transformers) (5.2.1)\n",
      "Requirement already satisfied: cymem<2.1.0,>=2.0.2 in c:\\users\\anigu\\anaconda3\\lib\\site-packages (from spacy<4.0.0,>=3.5.0->spacy_transformers) (2.0.6)\n",
      "Requirement already satisfied: pydantic!=1.8,!=1.8.1,<1.11.0,>=1.7.4 in c:\\users\\anigu\\anaconda3\\lib\\site-packages (from spacy<4.0.0,>=3.5.0->spacy_transformers) (1.10.12)\n",
      "Requirement already satisfied: spacy-legacy<3.1.0,>=3.0.11 in c:\\users\\anigu\\anaconda3\\lib\\site-packages (from spacy<4.0.0,>=3.5.0->spacy_transformers) (3.0.12)\n",
      "Requirement already satisfied: murmurhash<1.1.0,>=0.28.0 in c:\\users\\anigu\\anaconda3\\lib\\site-packages (from spacy<4.0.0,>=3.5.0->spacy_transformers) (1.0.7)\n",
      "Requirement already satisfied: preshed<3.1.0,>=3.0.2 in c:\\users\\anigu\\anaconda3\\lib\\site-packages (from spacy<4.0.0,>=3.5.0->spacy_transformers) (3.0.6)\n",
      "Requirement already satisfied: typer<0.8.0,>=0.3.0 in c:\\users\\anigu\\anaconda3\\lib\\site-packages (from spacy<4.0.0,>=3.5.0->spacy_transformers) (0.4.1)\n",
      "Requirement already satisfied: tqdm<5.0.0,>=4.38.0 in c:\\users\\anigu\\anaconda3\\lib\\site-packages (from spacy<4.0.0,>=3.5.0->spacy_transformers) (4.64.1)\n",
      "Requirement already satisfied: jinja2 in c:\\users\\anigu\\anaconda3\\lib\\site-packages (from spacy<4.0.0,>=3.5.0->spacy_transformers) (3.1.2)\n",
      "Requirement already satisfied: packaging>=20.0 in c:\\users\\anigu\\anaconda3\\lib\\site-packages (from spacy<4.0.0,>=3.5.0->spacy_transformers) (22.0)\n",
      "Requirement already satisfied: typing_extensions in c:\\users\\anigu\\anaconda3\\lib\\site-packages (from torch>=1.8.0->spacy_transformers) (4.4.0)\n",
      "Requirement already satisfied: tokenizers!=0.11.3,<0.14,>=0.11.1 in c:\\users\\anigu\\anaconda3\\lib\\site-packages (from transformers<4.37.0,>=3.4.0->spacy_transformers) (0.11.4)\n",
      "Requirement already satisfied: filelock in c:\\users\\anigu\\anaconda3\\lib\\site-packages (from transformers<4.37.0,>=3.4.0->spacy_transformers) (3.9.0)\n",
      "Requirement already satisfied: pyyaml>=5.1 in c:\\users\\anigu\\anaconda3\\lib\\site-packages (from transformers<4.37.0,>=3.4.0->spacy_transformers) (6.0)\n",
      "Requirement already satisfied: regex!=2019.12.17 in c:\\users\\anigu\\anaconda3\\lib\\site-packages (from transformers<4.37.0,>=3.4.0->spacy_transformers) (2022.7.9)\n",
      "Requirement already satisfied: huggingface-hub<1.0,>=0.10.0 in c:\\users\\anigu\\anaconda3\\lib\\site-packages (from transformers<4.37.0,>=3.4.0->spacy_transformers) (0.10.1)\n",
      "Requirement already satisfied: idna<4,>=2.5 in c:\\users\\anigu\\anaconda3\\lib\\site-packages (from requests<3.0.0,>=2.13.0->spacy<4.0.0,>=3.5.0->spacy_transformers) (3.4)\n",
      "Requirement already satisfied: certifi>=2017.4.17 in c:\\users\\anigu\\anaconda3\\lib\\site-packages (from requests<3.0.0,>=2.13.0->spacy<4.0.0,>=3.5.0->spacy_transformers) (2023.11.17)\n",
      "Requirement already satisfied: urllib3<1.27,>=1.21.1 in c:\\users\\anigu\\anaconda3\\lib\\site-packages (from requests<3.0.0,>=2.13.0->spacy<4.0.0,>=3.5.0->spacy_transformers) (1.26.14)\n",
      "Requirement already satisfied: charset-normalizer<3,>=2 in c:\\users\\anigu\\anaconda3\\lib\\site-packages (from requests<3.0.0,>=2.13.0->spacy<4.0.0,>=3.5.0->spacy_transformers) (2.0.4)\n",
      "Requirement already satisfied: confection<1.0.0,>=0.0.1 in c:\\users\\anigu\\anaconda3\\lib\\site-packages (from thinc<8.2.0,>=8.1.8->spacy<4.0.0,>=3.5.0->spacy_transformers) (0.1.4)\n",
      "Requirement already satisfied: blis<0.8.0,>=0.7.8 in c:\\users\\anigu\\anaconda3\\lib\\site-packages (from thinc<8.2.0,>=8.1.8->spacy<4.0.0,>=3.5.0->spacy_transformers) (0.7.9)\n",
      "Requirement already satisfied: colorama in c:\\users\\anigu\\anaconda3\\lib\\site-packages (from tqdm<5.0.0,>=4.38.0->spacy<4.0.0,>=3.5.0->spacy_transformers) (0.4.6)\n",
      "Requirement already satisfied: click<9.0.0,>=7.1.1 in c:\\users\\anigu\\anaconda3\\lib\\site-packages (from typer<0.8.0,>=0.3.0->spacy<4.0.0,>=3.5.0->spacy_transformers) (8.0.4)\n",
      "Requirement already satisfied: MarkupSafe>=2.0 in c:\\users\\anigu\\anaconda3\\lib\\site-packages (from jinja2->spacy<4.0.0,>=3.5.0->spacy_transformers) (2.1.1)\n",
      "Installing collected packages: spacy-alignments, spacy_transformers\n",
      "Successfully installed spacy-alignments-0.9.1 spacy_transformers-1.3.4\n",
      "Requirement already satisfied: spacy in c:\\users\\anigu\\anaconda3\\lib\\site-packages (3.5.3)\n",
      "Collecting spacy\n",
      "  Downloading spacy-3.7.2-cp310-cp310-win_amd64.whl (12.1 MB)\n",
      "     ---------------------------------------- 12.1/12.1 MB 8.5 MB/s eta 0:00:00\n",
      "Requirement already satisfied: wasabi<1.2.0,>=0.9.1 in c:\\users\\anigu\\anaconda3\\lib\\site-packages (from spacy) (0.9.1)\n",
      "Requirement already satisfied: thinc<8.3.0,>=8.1.8 in c:\\users\\anigu\\anaconda3\\lib\\site-packages (from spacy) (8.1.10)\n",
      "Requirement already satisfied: murmurhash<1.1.0,>=0.28.0 in c:\\users\\anigu\\anaconda3\\lib\\site-packages (from spacy) (1.0.7)\n",
      "Collecting weasel<0.4.0,>=0.1.0\n",
      "  Downloading weasel-0.3.4-py3-none-any.whl (50 kB)\n",
      "     ---------------------------------------- 50.1/50.1 kB 2.5 MB/s eta 0:00:00\n",
      "Requirement already satisfied: requests<3.0.0,>=2.13.0 in c:\\users\\anigu\\anaconda3\\lib\\site-packages (from spacy) (2.28.1)\n",
      "Requirement already satisfied: tqdm<5.0.0,>=4.38.0 in c:\\users\\anigu\\anaconda3\\lib\\site-packages (from spacy) (4.64.1)\n",
      "Requirement already satisfied: spacy-loggers<2.0.0,>=1.0.0 in c:\\users\\anigu\\anaconda3\\lib\\site-packages (from spacy) (1.0.4)\n",
      "Requirement already satisfied: setuptools in c:\\users\\anigu\\anaconda3\\lib\\site-packages (from spacy) (65.6.3)\n",
      "Requirement already satisfied: smart-open<7.0.0,>=5.2.1 in c:\\users\\anigu\\anaconda3\\lib\\site-packages (from spacy) (5.2.1)\n",
      "Requirement already satisfied: cymem<2.1.0,>=2.0.2 in c:\\users\\anigu\\anaconda3\\lib\\site-packages (from spacy) (2.0.6)\n",
      "Requirement already satisfied: pydantic!=1.8,!=1.8.1,<3.0.0,>=1.7.4 in c:\\users\\anigu\\anaconda3\\lib\\site-packages (from spacy) (1.10.12)\n",
      "Requirement already satisfied: srsly<3.0.0,>=2.4.3 in c:\\users\\anigu\\anaconda3\\lib\\site-packages (from spacy) (2.4.8)\n",
      "Requirement already satisfied: typer<0.10.0,>=0.3.0 in c:\\users\\anigu\\anaconda3\\lib\\site-packages (from spacy) (0.4.1)\n",
      "Requirement already satisfied: spacy-legacy<3.1.0,>=3.0.11 in c:\\users\\anigu\\anaconda3\\lib\\site-packages (from spacy) (3.0.12)\n",
      "Requirement already satisfied: packaging>=20.0 in c:\\users\\anigu\\anaconda3\\lib\\site-packages (from spacy) (22.0)\n",
      "Requirement already satisfied: catalogue<2.1.0,>=2.0.6 in c:\\users\\anigu\\anaconda3\\lib\\site-packages (from spacy) (2.0.10)\n",
      "Requirement already satisfied: numpy>=1.19.0 in c:\\users\\anigu\\anaconda3\\lib\\site-packages (from spacy) (1.23.5)\n",
      "Requirement already satisfied: preshed<3.1.0,>=3.0.2 in c:\\users\\anigu\\anaconda3\\lib\\site-packages (from spacy) (3.0.6)\n",
      "Requirement already satisfied: jinja2 in c:\\users\\anigu\\anaconda3\\lib\\site-packages (from spacy) (3.1.2)\n",
      "Requirement already satisfied: langcodes<4.0.0,>=3.2.0 in c:\\users\\anigu\\anaconda3\\lib\\site-packages (from spacy) (3.3.0)\n",
      "Requirement already satisfied: typing-extensions>=4.2.0 in c:\\users\\anigu\\anaconda3\\lib\\site-packages (from pydantic!=1.8,!=1.8.1,<3.0.0,>=1.7.4->spacy) (4.4.0)\n",
      "Requirement already satisfied: charset-normalizer<3,>=2 in c:\\users\\anigu\\anaconda3\\lib\\site-packages (from requests<3.0.0,>=2.13.0->spacy) (2.0.4)\n",
      "Requirement already satisfied: certifi>=2017.4.17 in c:\\users\\anigu\\anaconda3\\lib\\site-packages (from requests<3.0.0,>=2.13.0->spacy) (2023.11.17)\n",
      "Requirement already satisfied: idna<4,>=2.5 in c:\\users\\anigu\\anaconda3\\lib\\site-packages (from requests<3.0.0,>=2.13.0->spacy) (3.4)\n",
      "Requirement already satisfied: urllib3<1.27,>=1.21.1 in c:\\users\\anigu\\anaconda3\\lib\\site-packages (from requests<3.0.0,>=2.13.0->spacy) (1.26.14)\n",
      "Requirement already satisfied: confection<1.0.0,>=0.0.1 in c:\\users\\anigu\\anaconda3\\lib\\site-packages (from thinc<8.3.0,>=8.1.8->spacy) (0.1.4)\n",
      "Requirement already satisfied: blis<0.8.0,>=0.7.8 in c:\\users\\anigu\\anaconda3\\lib\\site-packages (from thinc<8.3.0,>=8.1.8->spacy) (0.7.9)\n",
      "Requirement already satisfied: colorama in c:\\users\\anigu\\anaconda3\\lib\\site-packages (from tqdm<5.0.0,>=4.38.0->spacy) (0.4.6)\n",
      "Requirement already satisfied: click<9.0.0,>=7.1.1 in c:\\users\\anigu\\anaconda3\\lib\\site-packages (from typer<0.10.0,>=0.3.0->spacy) (8.0.4)\n",
      "Collecting cloudpathlib<0.17.0,>=0.7.0\n",
      "  Downloading cloudpathlib-0.16.0-py3-none-any.whl (45 kB)\n",
      "     ---------------------------------------- 45.0/45.0 kB 1.1 MB/s eta 0:00:00\n",
      "Requirement already satisfied: MarkupSafe>=2.0 in c:\\users\\anigu\\anaconda3\\lib\\site-packages (from jinja2->spacy) (2.1.1)\n",
      "Installing collected packages: cloudpathlib, weasel, spacy\n",
      "  Attempting uninstall: spacy\n",
      "    Found existing installation: spacy 3.5.3\n",
      "    Uninstalling spacy-3.5.3:\n",
      "      Successfully uninstalled spacy-3.5.3\n",
      "Successfully installed cloudpathlib-0.16.0 spacy-3.7.2 weasel-0.3.4\n"
     ]
    }
   ],
   "source": [
    "!pip install spacy_transformers\n",
    "!pip install -U spacy"
   ]
  },
  {
   "cell_type": "code",
   "execution_count": 6,
   "metadata": {},
   "outputs": [],
   "source": [
    "import spacy\n",
    "from spacy.tokens import DocBin\n",
    "from tqdm import tqdm   \n",
    "import json"
   ]
  },
  {
   "cell_type": "code",
   "execution_count": 8,
   "metadata": {},
   "outputs": [
    {
     "data": {
      "text/plain": [
       "'3.7.2'"
      ]
     },
     "execution_count": 8,
     "metadata": {},
     "output_type": "execute_result"
    }
   ],
   "source": [
    "spacy.__version__"
   ]
  },
  {
   "cell_type": "code",
   "execution_count": 9,
   "metadata": {},
   "outputs": [],
   "source": [
    "cv_data= json.load(open('traindata.json'))"
   ]
  },
  {
   "cell_type": "code",
   "execution_count": 10,
   "metadata": {},
   "outputs": [
    {
     "data": {
      "text/plain": [
       "29"
      ]
     },
     "execution_count": 10,
     "metadata": {},
     "output_type": "execute_result"
    }
   ],
   "source": [
    "len(cv_data)"
   ]
  }
 ],
 "metadata": {
  "kernelspec": {
   "display_name": "Python 3 (ipykernel)",
   "language": "python",
   "name": "python3"
  },
  "language_info": {
   "codemirror_mode": {
    "name": "ipython",
    "version": 3
   },
   "file_extension": ".py",
   "mimetype": "text/x-python",
   "name": "python",
   "nbconvert_exporter": "python",
   "pygments_lexer": "ipython3",
   "version": "3.10.9"
  }
 },
 "nbformat": 4,
 "nbformat_minor": 2
}
