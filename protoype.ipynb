{
 "cells": [
  {
   "cell_type": "code",
   "execution_count": null,
   "metadata": {},
   "outputs": [],
   "source": [
    "!pip install spacy_transformers\n",
    "!pip install -U spacy"
   ]
  },
  {
   "cell_type": "code",
   "execution_count": 2,
   "metadata": {},
   "outputs": [],
   "source": [
    "import spacy\n",
    "from spacy.tokens import DocBin\n",
    "from tqdm import tqdm   \n",
    "import json"
   ]
  },
  {
   "cell_type": "code",
   "execution_count": 3,
   "metadata": {},
   "outputs": [
    {
     "data": {
      "text/plain": [
       "'3.7.2'"
      ]
     },
     "execution_count": 3,
     "metadata": {},
     "output_type": "execute_result"
    }
   ],
   "source": [
    "spacy.__version__"
   ]
  },
  {
   "cell_type": "code",
   "execution_count": 4,
   "metadata": {},
   "outputs": [],
   "source": [
    "cv_data= json.load(open('traindata.json'))"
   ]
  },
  {
   "cell_type": "code",
   "execution_count": 5,
   "metadata": {},
   "outputs": [
    {
     "data": {
      "text/plain": [
       "29"
      ]
     },
     "execution_count": 5,
     "metadata": {},
     "output_type": "execute_result"
    }
   ],
   "source": [
    "len(cv_data)"
   ]
  },
  {
   "cell_type": "code",
   "execution_count": 24,
   "metadata": {},
   "outputs": [
    {
     "name": "stdout",
     "output_type": "stream",
     "text": [
      "\u001b[38;5;2m✔ Auto-filled config with all values\u001b[0m\n",
      "\u001b[38;5;2m✔ Saved config\u001b[0m\n",
      "config.cfg\n",
      "You can now add your data and train your pipeline:\n",
      "python -m spacy train config.cfg --paths.train ./train.spacy --paths.dev ./dev.spacy\n"
     ]
    }
   ],
   "source": [
    "#!python -m spacy init fill-config base_config.cfg config.cfg\n",
    "!python -m spacy init fill-config base_config.cfg config.cfg"
   ]
  },
  {
   "cell_type": "code",
   "execution_count": 7,
   "metadata": {},
   "outputs": [
    {
     "data": {
      "text/plain": [
       "{'id': 2,\n",
       " 'annotations': [{'id': 1,\n",
       "   'completed_by': 1,\n",
       "   'result': [{'value': {'start': 10,\n",
       "      'end': 63,\n",
       "      'text': '',\n",
       "      'labels': ['Berufserfahrung']},\n",
       "     'id': 'BkIyY427mB',\n",
       "     'from_name': 'label',\n",
       "     'to_name': 'text',\n",
       "     'type': 'labels',\n",
       "     'origin': 'manual'},\n",
       "    {'value': {'start': 78,\n",
       "      'end': 87,\n",
       "      'text': '.Net (C#)',\n",
       "      'labels': ['Skills']},\n",
       "     'id': 'TDGtnx1smh',\n",
       "     'from_name': 'label',\n",
       "     'to_name': 'text',\n",
       "     'type': 'labels',\n",
       "     'origin': 'manual'}],\n",
       "   'was_cancelled': False,\n",
       "   'ground_truth': False,\n",
       "   'created_at': '2023-12-30T22:56:21.301770Z',\n",
       "   'updated_at': '2023-12-30T22:56:21.301770Z',\n",
       "   'draft_created_at': '2023-12-30T22:54:57.380759Z',\n",
       "   'lead_time': 86.25800000000001,\n",
       "   'prediction': {},\n",
       "   'result_count': 0,\n",
       "   'unique_id': '8b9ae70f-6fbe-43e3-a306-9bac8c047b2b',\n",
       "   'import_id': None,\n",
       "   'last_action': None,\n",
       "   'task': 2,\n",
       "   'project': 1,\n",
       "   'updated_by': 1,\n",
       "   'parent_prediction': None,\n",
       "   'parent_annotation': None,\n",
       "   'last_created_by': None}],\n",
       " 'file_upload': '09ef49b7-Lebenslauf1.txt',\n",
       " 'drafts': [],\n",
       " 'predictions': [],\n",
       " 'data': {'text': 'â€¢\\tGesamt: 10+ Jahre Berufserfahrung in der Software-Entwicklung, insbesondere .Net (C#)'},\n",
       " 'meta': {},\n",
       " 'created_at': '2023-12-30T22:52:04.051043Z',\n",
       " 'updated_at': '2023-12-30T22:56:21.439307Z',\n",
       " 'inner_id': 2,\n",
       " 'total_annotations': 1,\n",
       " 'cancelled_annotations': 0,\n",
       " 'total_predictions': 0,\n",
       " 'comment_count': 0,\n",
       " 'unresolved_comment_count': 0,\n",
       " 'last_comment_updated_at': None,\n",
       " 'project': 1,\n",
       " 'updated_by': 1,\n",
       " 'comment_authors': []}"
      ]
     },
     "execution_count": 7,
     "metadata": {},
     "output_type": "execute_result"
    }
   ],
   "source": [
    "cv_data[0]"
   ]
  },
  {
   "cell_type": "code",
   "execution_count": 30,
   "metadata": {},
   "outputs": [],
   "source": [
    "#should we use entities or annotations?\n",
    "\n",
    "def get_spacy_doc(file, data):\n",
    "    nlp = spacy.blank('de')\n",
    "    db = DocBin()\n",
    "    \n",
    "    for text, annot in tqdm(data):\n",
    "        doc = nlp.make_doc(text)\n",
    "        annot = annot['annotations']\n",
    "\n",
    "        ents = []\n",
    "        entity_indices = []\n",
    "\n",
    "        for start, end, label in annot:\n",
    "            skip_entity = False\n",
    "            for idx in range(start, end):\n",
    "                if idx in entity_indices:\n",
    "                    skip_entity = True\n",
    "                    break \n",
    "            if skip_entity==True:\n",
    "                continue\n",
    "            entity_indices = entity_indices + list(range(start, end))\n",
    "\n",
    "            try:\n",
    "                span = doc.char_span(start, end, label=label, alignment_mode='strict')\n",
    "            except: \n",
    "                continue\n",
    "\n",
    "            if span is None:\n",
    "                err_data = str([start, end]) + \"   \" + str(text) + \"\\n\"\n",
    "                file.write(err_data)\n",
    "\n",
    "            else:\n",
    "                ents.append(span)\n",
    "                \n",
    "                try:\n",
    "                    doc.ents = ents\n",
    "                    db.add(doc)\n",
    "                except: \n",
    "                    pass\n",
    "\n",
    "                return db \n"
   ]
  },
  {
   "cell_type": "code",
   "execution_count": 31,
   "metadata": {},
   "outputs": [],
   "source": [
    "from sklearn.model_selection import train_test_split\n",
    "train, test = train_test_split(cv_data, test_size=0.3)"
   ]
  },
  {
   "cell_type": "code",
   "execution_count": 32,
   "metadata": {},
   "outputs": [
    {
     "data": {
      "text/plain": [
       "(20, 9)"
      ]
     },
     "execution_count": 32,
     "metadata": {},
     "output_type": "execute_result"
    }
   ],
   "source": [
    "len(train), len(test)"
   ]
  },
  {
   "cell_type": "code",
   "execution_count": 33,
   "metadata": {},
   "outputs": [
    {
     "name": "stderr",
     "output_type": "stream",
     "text": [
      "  0%|          | 0/20 [00:00<?, ?it/s]\n"
     ]
    },
    {
     "ename": "ValueError",
     "evalue": "too many values to unpack (expected 2)",
     "output_type": "error",
     "traceback": [
      "\u001b[1;31m---------------------------------------------------------------------------\u001b[0m",
      "\u001b[1;31mValueError\u001b[0m                                Traceback (most recent call last)",
      "Cell \u001b[1;32mIn[33], line 3\u001b[0m\n\u001b[0;32m      1\u001b[0m file \u001b[38;5;241m=\u001b[39m \u001b[38;5;28mopen\u001b[39m(\u001b[38;5;124m'\u001b[39m\u001b[38;5;124merror.txt\u001b[39m\u001b[38;5;124m'\u001b[39m, \u001b[38;5;124m'\u001b[39m\u001b[38;5;124mw\u001b[39m\u001b[38;5;124m'\u001b[39m)\n\u001b[1;32m----> 3\u001b[0m db \u001b[38;5;241m=\u001b[39m \u001b[43mget_spacy_doc\u001b[49m\u001b[43m(\u001b[49m\u001b[43mfile\u001b[49m\u001b[43m,\u001b[49m\u001b[43m \u001b[49m\u001b[43mtrain\u001b[49m\u001b[43m)\u001b[49m\n\u001b[0;32m      4\u001b[0m db\u001b[38;5;241m.\u001b[39mto_disk(\u001b[38;5;124m'\u001b[39m\u001b[38;5;124mtrain_data.spacy\u001b[39m\u001b[38;5;124m'\u001b[39m)\n\u001b[0;32m      6\u001b[0m db \u001b[38;5;241m=\u001b[39m get_spacy_doc(file, test)\n",
      "Cell \u001b[1;32mIn[30], line 7\u001b[0m, in \u001b[0;36mget_spacy_doc\u001b[1;34m(file, data)\u001b[0m\n\u001b[0;32m      4\u001b[0m nlp \u001b[38;5;241m=\u001b[39m spacy\u001b[38;5;241m.\u001b[39mblank(\u001b[38;5;124m'\u001b[39m\u001b[38;5;124mde\u001b[39m\u001b[38;5;124m'\u001b[39m)\n\u001b[0;32m      5\u001b[0m db \u001b[38;5;241m=\u001b[39m DocBin()\n\u001b[1;32m----> 7\u001b[0m \u001b[38;5;28;01mfor\u001b[39;00m text, annot \u001b[38;5;129;01min\u001b[39;00m tqdm(data):\n\u001b[0;32m      8\u001b[0m     doc \u001b[38;5;241m=\u001b[39m nlp\u001b[38;5;241m.\u001b[39mmake_doc(text)\n\u001b[0;32m      9\u001b[0m     annot \u001b[38;5;241m=\u001b[39m annot[\u001b[38;5;124m'\u001b[39m\u001b[38;5;124mid\u001b[39m\u001b[38;5;124m'\u001b[39m]\n",
      "\u001b[1;31mValueError\u001b[0m: too many values to unpack (expected 2)"
     ]
    }
   ],
   "source": [
    "file = open('error.txt', 'w')\n",
    "\n",
    "db = get_spacy_doc(file, train)\n",
    "db.to_disk('train_data.spacy')\n",
    "\n",
    "db = get_spacy_doc(file, test)\n",
    "db.to_disk('test_data.spacy')\n",
    "\n",
    "file.close()"
   ]
  },
  {
   "cell_type": "code",
   "execution_count": 34,
   "metadata": {},
   "outputs": [
    {
     "ename": "NameError",
     "evalue": "name 'db' is not defined",
     "output_type": "error",
     "traceback": [
      "\u001b[1;31m---------------------------------------------------------------------------\u001b[0m",
      "\u001b[1;31mNameError\u001b[0m                                 Traceback (most recent call last)",
      "Cell \u001b[1;32mIn[34], line 1\u001b[0m\n\u001b[1;32m----> 1\u001b[0m \u001b[38;5;28mlen\u001b[39m(\u001b[43mdb\u001b[49m\u001b[38;5;241m.\u001b[39mtokens)\n",
      "\u001b[1;31mNameError\u001b[0m: name 'db' is not defined"
     ]
    }
   ],
   "source": [
    "len(db.tokens)"
   ]
  },
  {
   "cell_type": "code",
   "execution_count": null,
   "metadata": {},
   "outputs": [],
   "source": []
  },
  {
   "cell_type": "code",
   "execution_count": null,
   "metadata": {},
   "outputs": [],
   "source": []
  }
 ],
 "metadata": {
  "kernelspec": {
   "display_name": "Python 3 (ipykernel)",
   "language": "python",
   "name": "python3"
  },
  "language_info": {
   "codemirror_mode": {
    "name": "ipython",
    "version": 3
   },
   "file_extension": ".py",
   "mimetype": "text/x-python",
   "name": "python",
   "nbconvert_exporter": "python",
   "pygments_lexer": "ipython3",
   "version": "3.10.11"
  }
 },
 "nbformat": 4,
 "nbformat_minor": 2
}
